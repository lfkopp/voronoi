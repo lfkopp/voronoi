{
 "cells": [
  {
   "cell_type": "code",
   "execution_count": 15,
   "metadata": {},
   "outputs": [],
   "source": [
    "from PIL import Image\n",
    "import random\n",
    "import math\n",
    "\n",
    "width, height = 800,600\n",
    "num = 71\n",
    "def limits(x1,y1,xmax,ymax):\n",
    "    x = max(1,min(x1,xmax-1))\n",
    "    y = max(1,min(y1,ymax-1))\n",
    "    return (x,y)\n",
    "\n",
    "image = Image.new(\"RGB\", (width, height))\n",
    "putpixel = image.putpixel\n",
    "imgx, imgy = image.size\n",
    "nx = []\n",
    "ny = []\n",
    "nr = []\n",
    "ng = []\n",
    "nb = []\n",
    "for i in range(num):\n",
    "    nx.append(random.randrange(imgx))\n",
    "    ny.append(random.randrange(imgy))\n",
    "    nr.append(random.randrange(256))\n",
    "    ng.append(random.randrange(256))\n",
    "    nb.append(random.randrange(256))\n",
    "\n",
    "def generate_voronoi_diagram(nx,ny,nr,ng,nb,nome):\n",
    "    rx = []\n",
    "    ry = []\n",
    "    for i in range(num):\n",
    "        rx.append([])\n",
    "        ry.append([])\n",
    "    for y in range(imgy):\n",
    "        for x in range(imgx):\n",
    "            dmin = math.hypot(imgx-1, imgy-1)\n",
    "            j = -1\n",
    "            for i in range(num):\n",
    "                d = math.hypot(nx[i]-x, ny[i]-y)\n",
    "                if d < dmin:\n",
    "                    dmin = d\n",
    "                    j = i\n",
    "            rx[j].append(x)\n",
    "            ry[j].append(y)\n",
    "            putpixel((x, y), (nr[j], ng[j], nb[j]))\n",
    "    for k in range(num):\n",
    "        for v in range(-1,2):\n",
    "            for h in range(-1,2):  \n",
    "                putpixel(limits(nx[k]+v, ny[k]+h,imgx,imgy), (0,0,0))\n",
    "    ax = []\n",
    "    ay = []\n",
    "    for i in range(num):\n",
    "        ax.append([])\n",
    "        ay.append([])\n",
    "        ax[i],ay[i] = int(sum(rx[i]) // len(rx[i])), int(sum(ry[i]) // len(ry[i]))\n",
    "        a = (ax[i],ay[i])\n",
    "        putpixel(a, (100,0,0))\n",
    "    image.save(nome, \"PNG\")\n",
    "    return ax,ay\n",
    "ax,ay = generate_voronoi_diagram(nx,ny,nr,ng,nb,\"voronoi.png\")"
   ]
  },
  {
   "cell_type": "code",
   "execution_count": 16,
   "metadata": {},
   "outputs": [],
   "source": [
    "for g in range(100):\n",
    "    if g < 10: g = '0' + str(g)\n",
    "    az = ax.copy()\n",
    "    aw = ay.copy()\n",
    "    ax,ay = generate_voronoi_diagram(ax,ay,nr,ng,nb,\"voronoi\"+str(g)+\".png\")\n",
    "    if az == ax and aw == ay: break"
   ]
  },
  {
   "cell_type": "code",
   "execution_count": null,
   "metadata": {},
   "outputs": [],
   "source": []
  }
 ],
 "metadata": {
  "kernelspec": {
   "display_name": "Python 3",
   "language": "python",
   "name": "python3"
  },
  "language_info": {
   "codemirror_mode": {
    "name": "ipython",
    "version": 3
   },
   "file_extension": ".py",
   "mimetype": "text/x-python",
   "name": "python",
   "nbconvert_exporter": "python",
   "pygments_lexer": "ipython3",
   "version": "3.6.4"
  }
 },
 "nbformat": 4,
 "nbformat_minor": 2
}
